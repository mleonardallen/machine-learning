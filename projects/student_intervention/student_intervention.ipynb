{
 "cells": [
  {
   "cell_type": "markdown",
   "metadata": {},
   "source": [
    "# Project 2: Supervised Learning\n",
    "### Building a Student Intervention System"
   ]
  },
  {
   "cell_type": "markdown",
   "metadata": {},
   "source": [
    "## 1. Classification vs Regression\n",
    "\n",
    "Your goal is to identify students who might need early intervention - which type of supervised machine learning problem is this, classification or regression? Why?\n",
    "> This is a classification problem, because the mapped output is a discrete class label: PASS or FAIL.  If on the other hand, we mapped the input features to a continuous output value, such as a fail risk value, then this would be a regression problem."
   ]
  },
  {
   "cell_type": "markdown",
   "metadata": {},
   "source": [
    "## 2. Exploring the Data\n",
    "\n",
    "Let's go ahead and read in the student dataset first.\n",
    "\n",
    "_To execute a code cell, click inside it and press **Shift+Enter**._"
   ]
  },
  {
   "cell_type": "code",
   "execution_count": 1,
   "metadata": {
    "collapsed": false
   },
   "outputs": [],
   "source": [
    "# Import libraries\n",
    "import numpy as np\n",
    "import pandas as pd"
   ]
  },
  {
   "cell_type": "code",
   "execution_count": 2,
   "metadata": {
    "collapsed": false
   },
   "outputs": [
    {
     "name": "stdout",
     "output_type": "stream",
     "text": [
      "Student data read successfully!\n"
     ]
    }
   ],
   "source": [
    "# Read student data\n",
    "student_data = pd.read_csv(\"student-data.csv\")\n",
    "print \"Student data read successfully!\"\n",
    "# Note: The last column 'passed' is the target/label, all other are feature columns"
   ]
  },
  {
   "cell_type": "markdown",
   "metadata": {},
   "source": [
    "Now, can you find out the following facts about the dataset?\n",
    "- Total number of students\n",
    "- Number of students who passed\n",
    "- Number of students who failed\n",
    "- Graduation rate of the class (%)\n",
    "- Number of features\n",
    "\n",
    "_Use the code block below to compute these values. Instructions/steps are marked using **TODO**s._"
   ]
  },
  {
   "cell_type": "code",
   "execution_count": 3,
   "metadata": {
    "collapsed": false
   },
   "outputs": [
    {
     "name": "stdout",
     "output_type": "stream",
     "text": [
      "Total number of students: 395\n",
      "Number of students who passed: 265\n",
      "Number of students who failed: 130\n",
      "Number of features: 30\n",
      "Graduation rate of the class: 67.09%\n"
     ]
    }
   ],
   "source": [
    "# TODO: Compute desired values - replace each '?' with an appropriate expression/function call\n",
    "\n",
    "n_students = student_data.shape[0]\n",
    "n_features = student_data.shape[1] - 1 # minus 1 because one column is the class label\n",
    "n_passed = student_data[student_data.passed == 'yes'].shape[0]\n",
    "n_failed = student_data[student_data.passed == 'no'].shape[0]\n",
    "grad_rate = (n_passed / float(n_students)) * 100\n",
    "print \"Total number of students: {}\".format(n_students)\n",
    "print \"Number of students who passed: {}\".format(n_passed)\n",
    "print \"Number of students who failed: {}\".format(n_failed)\n",
    "print \"Number of features: {}\".format(n_features)\n",
    "print \"Graduation rate of the class: {:.2f}%\".format(grad_rate)"
   ]
  },
  {
   "cell_type": "markdown",
   "metadata": {},
   "source": [
    "## 3. Preparing the Data\n",
    "In this section, we will prepare the data for modeling, training and testing.\n",
    "\n",
    "### Identify feature and target columns\n",
    "It is often the case that the data you obtain contains non-numeric features. This can be a problem, as most machine learning algorithms expect numeric data to perform computations with.\n",
    "\n",
    "Let's first separate our data into feature and target columns, and see if any features are non-numeric.<br/>\n",
    "**Note**: For this dataset, the last column (`'passed'`) is the target or label we are trying to predict."
   ]
  },
  {
   "cell_type": "code",
   "execution_count": 4,
   "metadata": {
    "collapsed": false
   },
   "outputs": [
    {
     "name": "stdout",
     "output_type": "stream",
     "text": [
      "Feature column(s):-\n",
      "['school', 'sex', 'age', 'address', 'famsize', 'Pstatus', 'Medu', 'Fedu', 'Mjob', 'Fjob', 'reason', 'guardian', 'traveltime', 'studytime', 'failures', 'schoolsup', 'famsup', 'paid', 'activities', 'nursery', 'higher', 'internet', 'romantic', 'famrel', 'freetime', 'goout', 'Dalc', 'Walc', 'health', 'absences']\n",
      "Target column: passed\n",
      "\n",
      "Feature values:-\n",
      "  school sex  age address famsize Pstatus  Medu  Fedu     Mjob      Fjob  \\\n",
      "0     GP   F   18       U     GT3       A     4     4  at_home   teacher   \n",
      "1     GP   F   17       U     GT3       T     1     1  at_home     other   \n",
      "2     GP   F   15       U     LE3       T     1     1  at_home     other   \n",
      "3     GP   F   15       U     GT3       T     4     2   health  services   \n",
      "4     GP   F   16       U     GT3       T     3     3    other     other   \n",
      "\n",
      "    ...    higher internet  romantic  famrel  freetime goout Dalc Walc health  \\\n",
      "0   ...       yes       no        no       4         3     4    1    1      3   \n",
      "1   ...       yes      yes        no       5         3     3    1    1      3   \n",
      "2   ...       yes      yes        no       4         3     2    2    3      3   \n",
      "3   ...       yes      yes       yes       3         2     2    1    1      5   \n",
      "4   ...       yes       no        no       4         3     2    1    2      5   \n",
      "\n",
      "  absences  \n",
      "0        6  \n",
      "1        4  \n",
      "2       10  \n",
      "3        2  \n",
      "4        4  \n",
      "\n",
      "[5 rows x 30 columns]\n"
     ]
    }
   ],
   "source": [
    "# Extract feature (X) and target (y) columns\n",
    "feature_cols = list(student_data.columns[:-1])  # all columns but last are features\n",
    "target_col = student_data.columns[-1]  # last column is the target/label\n",
    "print \"Feature column(s):-\\n{}\".format(feature_cols)\n",
    "print \"Target column: {}\".format(target_col)\n",
    "\n",
    "X_all = student_data[feature_cols]  # feature values for all students\n",
    "y_all = student_data[target_col]  # corresponding targets/labels\n",
    "print \"\\nFeature values:-\"\n",
    "print X_all.head()  # print the first 5 rows"
   ]
  },
  {
   "cell_type": "markdown",
   "metadata": {},
   "source": [
    "### Preprocess feature columns\n",
    "\n",
    "As you can see, there are several non-numeric columns that need to be converted! Many of them are simply `yes`/`no`, e.g. `internet`. These can be reasonably converted into `1`/`0` (binary) values.\n",
    "\n",
    "Other columns, like `Mjob` and `Fjob`, have more than two values, and are known as _categorical variables_. The recommended way to handle such a column is to create as many columns as possible values (e.g. `Fjob_teacher`, `Fjob_other`, `Fjob_services`, etc.), and assign a `1` to one of them and `0` to all others.\n",
    "\n",
    "These generated columns are sometimes called _dummy variables_, and we will use the [`pandas.get_dummies()`](http://pandas.pydata.org/pandas-docs/stable/generated/pandas.get_dummies.html?highlight=get_dummies#pandas.get_dummies) function to perform this transformation."
   ]
  },
  {
   "cell_type": "code",
   "execution_count": 5,
   "metadata": {
    "collapsed": false
   },
   "outputs": [
    {
     "name": "stdout",
     "output_type": "stream",
     "text": [
      "Processed feature columns (48):-\n",
      "['school_GP', 'school_MS', 'sex_F', 'sex_M', 'age', 'address_R', 'address_U', 'famsize_GT3', 'famsize_LE3', 'Pstatus_A', 'Pstatus_T', 'Medu', 'Fedu', 'Mjob_at_home', 'Mjob_health', 'Mjob_other', 'Mjob_services', 'Mjob_teacher', 'Fjob_at_home', 'Fjob_health', 'Fjob_other', 'Fjob_services', 'Fjob_teacher', 'reason_course', 'reason_home', 'reason_other', 'reason_reputation', 'guardian_father', 'guardian_mother', 'guardian_other', 'traveltime', 'studytime', 'failures', 'schoolsup', 'famsup', 'paid', 'activities', 'nursery', 'higher', 'internet', 'romantic', 'famrel', 'freetime', 'goout', 'Dalc', 'Walc', 'health', 'absences']\n"
     ]
    }
   ],
   "source": [
    "# Preprocess feature columns\n",
    "def preprocess_features(X):\n",
    "    outX = pd.DataFrame(index=X.index)  # output dataframe, initially empty\n",
    "\n",
    "    # Check each column\n",
    "    for col, col_data in X.iteritems():\n",
    "        # If data type is non-numeric, try to replace all yes/no values with 1/0\n",
    "        if col_data.dtype == object:\n",
    "            col_data = col_data.replace(['yes', 'no'], [1, 0])\n",
    "        # Note: This should change the data type for yes/no columns to int\n",
    "\n",
    "        # If still non-numeric, convert to one or more dummy variables\n",
    "        if col_data.dtype == object:\n",
    "            col_data = pd.get_dummies(col_data, prefix=col)  # e.g. 'school' => 'school_GP', 'school_MS'\n",
    "\n",
    "        outX = outX.join(col_data)  # collect column(s) in output dataframe\n",
    "\n",
    "    return outX\n",
    "\n",
    "X_all = preprocess_features(X_all)\n",
    "print \"Processed feature columns ({}):-\\n{}\".format(len(X_all.columns), list(X_all.columns))"
   ]
  },
  {
   "cell_type": "markdown",
   "metadata": {},
   "source": [
    "### Split data into training and test sets\n",
    "\n",
    "So far, we have converted all _categorical_ features into numeric values. In this next step, we split the data (both features and corresponding labels) into training and test sets."
   ]
  },
  {
   "cell_type": "code",
   "execution_count": 62,
   "metadata": {
    "collapsed": false
   },
   "outputs": [
    {
     "name": "stdout",
     "output_type": "stream",
     "text": [
      "Training set: 300 samples\n",
      "Test set: 95 samples\n"
     ]
    }
   ],
   "source": [
    "from sklearn.cross_validation import train_test_split\n",
    "# First, decide how many training vs test samples you want\n",
    "num_all = student_data.shape[0]  # same as len(student_data)\n",
    "num_train = 300  # about 75% of the data\n",
    "num_test = num_all - num_train\n",
    "\n",
    "# TODO: Then, select features (X) and corresponding labels (y) for the training and test sets\n",
    "# Note: Shuffle the data or randomly select samples to avoid any bias due to ordering in the dataset\n",
    "X_train, X_test, y_train, y_test = train_test_split(X_all, y_all, train_size=num_train, random_state=42)\n",
    "print \"Training set: {} samples\".format(X_train.shape[0])\n",
    "print \"Test set: {} samples\".format(X_test.shape[0])\n",
    "# Note: If you need a validation set, extract it from within training data"
   ]
  },
  {
   "cell_type": "markdown",
   "metadata": {},
   "source": [
    "## 4. Training and Evaluating Models\n",
    "Choose 3 supervised learning models that are available in scikit-learn, and appropriate for this problem. For each model:\n",
    "\n",
    "- What is the theoretical O(n) time & space complexity in terms of input size?\n",
    "- What are the general applications of this model? What are its strengths and weaknesses?\n",
    "- Given what you know about the data so far, why did you choose this model to apply?\n",
    "- Fit this model to the training data, try to predict labels (for both training and test sets), and measure the F<sub>1</sub> score. Repeat this process with different training set sizes (100, 200, 300), keeping test set constant.\n",
    "\n",
    "Produce a table showing training time, prediction time, F<sub>1</sub> score on training set and F<sub>1</sub> score on test set, for each training set size.\n",
    "\n",
    "Note: You need to produce 3 such tables - one for each model."
   ]
  },
  {
   "cell_type": "code",
   "execution_count": 7,
   "metadata": {
    "collapsed": true
   },
   "outputs": [],
   "source": [
    "# Function wrapper for timing\n",
    "# Mike: I stripped out timing methods from within train_classifier and predict_labels in favor of this wrapper.\n",
    "import time\n",
    "def timing(func):\n",
    "    def wrap(*args):\n",
    "        time1 = time.time()\n",
    "        ret = func(*args)\n",
    "        time2 = time.time()\n",
    "        wrap.timing = time2 - time1\n",
    "        return ret\n",
    "    return wrap"
   ]
  },
  {
   "cell_type": "code",
   "execution_count": 8,
   "metadata": {
    "collapsed": false
   },
   "outputs": [],
   "source": [
    "# Train a model\n",
    "@timing\n",
    "def train_classifier(clf, X_train, y_train):\n",
    "    clf.fit(X_train, y_train)\n",
    "\n",
    "# Mike: I consolidated the TODO and other code in work below.\n",
    "# TODO: Choose a model, import it and instantiate an object"
   ]
  },
  {
   "cell_type": "code",
   "execution_count": 9,
   "metadata": {
    "collapsed": false
   },
   "outputs": [],
   "source": [
    "# Predict on training set and compute F1 score\n",
    "from sklearn.metrics import f1_score\n",
    "\n",
    "@timing\n",
    "def predict_labels(clf, features, target):\n",
    "    y_pred = clf.predict(features)\n",
    "    return f1_score(target.values, y_pred, pos_label='yes')"
   ]
  },
  {
   "cell_type": "code",
   "execution_count": 10,
   "metadata": {
    "collapsed": false
   },
   "outputs": [],
   "source": [
    "# Train and predict using different training set sizes\n",
    "# Mike: I removed print statements within this function since this information will show up in the results table\n",
    "\n",
    "def train_predict(clf, X_train, y_train, X_test, y_test):\n",
    "    \n",
    "    # train\n",
    "    train_classifier(clf, X_train, y_train)\n",
    "    time_train = train_classifier.timing\n",
    "\n",
    "    # predect on train data\n",
    "    f1_train = predict_labels(clf, X_train, y_train)\n",
    "    \n",
    "    # predict on test data\n",
    "    f1_test = predict_labels(clf, X_test, y_test)\n",
    "    time_predict_test = predict_labels.timing\n",
    "    \n",
    "    # return train/predict results\n",
    "    return pd.DataFrame(\n",
    "        [[len(X_train), time_train, time_predict_test, f1_train, f1_test]], \n",
    "        columns=['Training set size', 'Training time (secs)', 'Prediction time (secs)', 'F1 score for training set', 'F1 score for test set']\n",
    "    )\n",
    "\n",
    "# Mike: I consolidated the TODO in work below\n",
    "# TODO: Run the helper function above for desired subsets of training data\n",
    "# Note: Keep the test set constant"
   ]
  },
  {
   "cell_type": "code",
   "execution_count": 11,
   "metadata": {
    "collapsed": true
   },
   "outputs": [],
   "source": [
    "# helper function to display table with classification results\n",
    "from IPython.display import display, HTML\n",
    "def displayTable(clf, X_train, y_train, X_test, y_test):\n",
    "    df = pd.DataFrame()\n",
    "    training_set_sizes = [100, 200, 300]\n",
    "    for num in training_set_sizes:\n",
    "        results = train_predict(clf, X_train[:num], y_train[:num], X_test, y_test)\n",
    "        df = df.append(results, ignore_index=True)\n",
    "        \n",
    "    df.set_index('Training set size', inplace=True)\n",
    "    display(HTML(df.T.to_html(col_space='134px', float_format=\"{:.3f}\".format)))"
   ]
  },
  {
   "cell_type": "markdown",
   "metadata": {},
   "source": [
    "### Support Vector Machines\n",
    "---\n",
    "- What is the theoretical O(n) time & space complexity in terms of input size?\n",
    " - Train Time: Because this is a quadratic programming problem, training complexity is O(n^2) or O(n^3) depending on the model parameters.\n",
    " - Test Time: Prediction complexity is proportional number of support vectors. Generally this is O(nSV*d) where nSV is the number of support vectors and d is the dimenionsality or O(1) in terms of n\n",
    " - Space: For SVM we don't need to keep all the data around.  To represent the model we just need the support vectors, making space O(nSV) or O(1) in terms of n\n",
    "- What are the general applications of this model?\n",
    " - SVMs can be used for classification, regression and outliers detection.\n",
    "- What are its strengths and weaknesses?\n",
    " - Strength: Works well in high dimensional feature spaces.  The complexity of trained classifier depends on the number of support vectors rather than the dimensionality of the data.\n",
    " - Strength: Always has a unique solution or global optima.\n",
    " - Weakness: Do not work well with very large datasets since training time tends to be cubic with size of the dataset.\n",
    " - Weakness: Does not work well with noisy data.  Even a small number of mislabeled examples can reduce training time performance.\n",
    "- Given what you know about the data so far, why did you choose this model to apply?\n",
    " - We are working with a fairly small data set, so therefore training time will still be small even with the exponential Big O.  In addition, it is feasible that we would only need to train once, so an expensive training computation might not be a big issue.\n",
    " - The data has a fairly high dimensional feature space, which SVM handles well since features that do not matter will not be a part of the support vectors.\n",
    " - Given we are working with skewed data, SVM may be a good choice because the parameters of an SVM allow adjusting for class weight.\n",
    " - If memory consumption is a large concern in our theoretical environment, the SVM will do well because it only needs to retain the support vectors and not the entire data set during testing.\n",
    " - Testing time is constant with respect to n so we satify the constraint on computation costs."
   ]
  },
  {
   "cell_type": "code",
   "execution_count": 63,
   "metadata": {
    "collapsed": false
   },
   "outputs": [
    {
     "data": {
      "text/html": [
       "<table border=\"1\" class=\"dataframe\">\n",
       "  <thead>\n",
       "    <tr style=\"text-align: right;\">\n",
       "      <th style=\"min-width: 134px;\">Training set size</th>\n",
       "      <th style=\"min-width: 134px;\">100</th>\n",
       "      <th style=\"min-width: 134px;\">200</th>\n",
       "      <th style=\"min-width: 134px;\">300</th>\n",
       "    </tr>\n",
       "  </thead>\n",
       "  <tbody>\n",
       "    <tr>\n",
       "      <th style=\"min-width: 134px;\">Training time (secs)</th>\n",
       "      <td>0.001</td>\n",
       "      <td>0.003</td>\n",
       "      <td>0.005</td>\n",
       "    </tr>\n",
       "    <tr>\n",
       "      <th style=\"min-width: 134px;\">Prediction time (secs)</th>\n",
       "      <td>0.001</td>\n",
       "      <td>0.001</td>\n",
       "      <td>0.002</td>\n",
       "    </tr>\n",
       "    <tr>\n",
       "      <th style=\"min-width: 134px;\">F1 score for training set</th>\n",
       "      <td>0.878</td>\n",
       "      <td>0.868</td>\n",
       "      <td>0.876</td>\n",
       "    </tr>\n",
       "    <tr>\n",
       "      <th style=\"min-width: 134px;\">F1 score for test set</th>\n",
       "      <td>0.775</td>\n",
       "      <td>0.781</td>\n",
       "      <td>0.784</td>\n",
       "    </tr>\n",
       "  </tbody>\n",
       "</table>"
      ],
      "text/plain": [
       "<IPython.core.display.HTML object>"
      ]
     },
     "metadata": {},
     "output_type": "display_data"
    }
   ],
   "source": [
    "from sklearn import svm\n",
    "displayTable(svm.SVC(), X_train, y_train, X_test, y_test)"
   ]
  },
  {
   "cell_type": "markdown",
   "metadata": {},
   "source": [
    "### Naive Bayes\n",
    "---\n",
    "- What is the theoretical O(n) time & space complexity in terms of input size?\n",
    " - Training time: O(n). We just need to calculate the likilhood function for the model parameters.\n",
    " - Testing time: O(1).  Testing time only depends on the number of hypothesis and dimensionality of the data.\n",
    " - Space: This is (1).  We just store the model we got during training.\n",
    "- What are the general applications of this model?\n",
    " - Naive Bayes is a classification algorithm.\n",
    "- What are its strengths and weaknesses?\n",
    "  - Strength: Works well in high dimensional spaces due to conditional independence assumption.\n",
    "  - Strength: Fast.  Training time is linear and testing time is constant with respect to n.\n",
    "  - Strength: Works well with noisy data.\n",
    " - Weakness: Only practical in small hypothesis spaces.\n",
    " - Weakness: Cannot capture dependencies among variables.  For example AND or XOR relationships.\n",
    " - Weakness: Suffers from skewed data bias.  Unbalanaced class labels within the training data may cause one class to be prefered over another.\n",
    "- Given what you know about the data so far, why did you choose this model to apply?\n",
    "  - Given we care about execution time and memory for this particular problem, Naive bayes is an excellent fit, given training time is linear, testing time is constant and space is constant.\n",
    "  - Given the few training exmaples, and relative high dimensionality compared to how many examples we have, other models might suffer greatly from the curse of dimensionality, but naive bayes does well due to the conditional idependence assumptions.\n",
    "  - Given the data contains only two classes, the Naive Bayes weakness on large hypothesis spaces is not a concern."
   ]
  },
  {
   "cell_type": "code",
   "execution_count": 64,
   "metadata": {
    "collapsed": false
   },
   "outputs": [
    {
     "data": {
      "text/html": [
       "<table border=\"1\" class=\"dataframe\">\n",
       "  <thead>\n",
       "    <tr style=\"text-align: right;\">\n",
       "      <th style=\"min-width: 134px;\">Training set size</th>\n",
       "      <th style=\"min-width: 134px;\">100</th>\n",
       "      <th style=\"min-width: 134px;\">200</th>\n",
       "      <th style=\"min-width: 134px;\">300</th>\n",
       "    </tr>\n",
       "  </thead>\n",
       "  <tbody>\n",
       "    <tr>\n",
       "      <th style=\"min-width: 134px;\">Training time (secs)</th>\n",
       "      <td>0.001</td>\n",
       "      <td>0.001</td>\n",
       "      <td>0.001</td>\n",
       "    </tr>\n",
       "    <tr>\n",
       "      <th style=\"min-width: 134px;\">Prediction time (secs)</th>\n",
       "      <td>0.001</td>\n",
       "      <td>0.001</td>\n",
       "      <td>0.001</td>\n",
       "    </tr>\n",
       "    <tr>\n",
       "      <th style=\"min-width: 134px;\">F1 score for training set</th>\n",
       "      <td>0.847</td>\n",
       "      <td>0.841</td>\n",
       "      <td>0.804</td>\n",
       "    </tr>\n",
       "    <tr>\n",
       "      <th style=\"min-width: 134px;\">F1 score for test set</th>\n",
       "      <td>0.803</td>\n",
       "      <td>0.724</td>\n",
       "      <td>0.763</td>\n",
       "    </tr>\n",
       "  </tbody>\n",
       "</table>"
      ],
      "text/plain": [
       "<IPython.core.display.HTML object>"
      ]
     },
     "metadata": {},
     "output_type": "display_data"
    }
   ],
   "source": [
    "from sklearn.naive_bayes import GaussianNB\n",
    "displayTable(GaussianNB(), X_train, y_train, X_test, y_test)"
   ]
  },
  {
   "cell_type": "markdown",
   "metadata": {},
   "source": [
    "### Decision Trees\n",
    "---\n",
    "- What is the theoretical O(n) time & space complexity in terms of input size?\n",
    " - O(n · k^2) where k is the number of features\n",
    " \n",
    "- What are the general applications of this model?\n",
    " - Classification and Regression\n",
    "- What are its strengths and weaknesses?\n",
    " - Strength: Graphically easy to comprehend.\n",
    " - Strength: Does not require a lot of data preparation.  For example feature scaling is not needed for a decision tree since splitting only considers one feature at a time.\n",
    " - Strength: Able to handle non-linear relationships with the data.\n",
    " - Strength: Able to handle continuous and categorical data.\n",
    " - Strength: Implicitly does feature selection, since the highest information gain splits are at the top of the three.\n",
    " - Weakness: Prone to overfitting, especially with high dimensional data sets.\n",
    " - Weakness: Practical decicion tree algorithms cannot guarantee to return the globally optimal decision tree since only local optimas are considered at each node.\n",
    " - Weakness: Small changes inn data can provide vastly different trees.\n",
    "- Given what you know about the data so far, why did you choose this model to apply?\n",
    " - Given we are working with skewed data, Decisions Trees may be a good choice because the parameters of an Decision Tree allow adjusting for class weight."
   ]
  },
  {
   "cell_type": "code",
   "execution_count": 66,
   "metadata": {
    "collapsed": false
   },
   "outputs": [
    {
     "data": {
      "text/html": [
       "<table border=\"1\" class=\"dataframe\">\n",
       "  <thead>\n",
       "    <tr style=\"text-align: right;\">\n",
       "      <th style=\"min-width: 134px;\">Training set size</th>\n",
       "      <th style=\"min-width: 134px;\">100</th>\n",
       "      <th style=\"min-width: 134px;\">200</th>\n",
       "      <th style=\"min-width: 134px;\">300</th>\n",
       "    </tr>\n",
       "  </thead>\n",
       "  <tbody>\n",
       "    <tr>\n",
       "      <th style=\"min-width: 134px;\">Training time (secs)</th>\n",
       "      <td>0.001</td>\n",
       "      <td>0.001</td>\n",
       "      <td>0.002</td>\n",
       "    </tr>\n",
       "    <tr>\n",
       "      <th style=\"min-width: 134px;\">Prediction time (secs)</th>\n",
       "      <td>0.001</td>\n",
       "      <td>0.001</td>\n",
       "      <td>0.001</td>\n",
       "    </tr>\n",
       "    <tr>\n",
       "      <th style=\"min-width: 134px;\">F1 score for training set</th>\n",
       "      <td>1.000</td>\n",
       "      <td>1.000</td>\n",
       "      <td>1.000</td>\n",
       "    </tr>\n",
       "    <tr>\n",
       "      <th style=\"min-width: 134px;\">F1 score for test set</th>\n",
       "      <td>0.655</td>\n",
       "      <td>0.742</td>\n",
       "      <td>0.633</td>\n",
       "    </tr>\n",
       "  </tbody>\n",
       "</table>"
      ],
      "text/plain": [
       "<IPython.core.display.HTML object>"
      ]
     },
     "metadata": {},
     "output_type": "display_data"
    }
   ],
   "source": [
    "from sklearn.tree import DecisionTreeClassifier\n",
    "displayTable(DecisionTreeClassifier(), X_train, y_train, X_test, y_test)"
   ]
  },
  {
   "cell_type": "markdown",
   "metadata": {},
   "source": [
    "## 5. Choosing the Best Model\n",
    "\n",
    "- Based on the experiments you performed earlier, in 1-2 paragraphs explain to the board of supervisors what single model you chose as the best model. Which model is generally the most appropriate based on the available data, limited resources, cost, and performance?\n",
    "\n",
    "> Support Vector Machines or SVM is my chosen model based on my experiments.  Models considered include Decision Trees, Naive Bayes, and SVM.  Criterion leading to my decision include how the model applies to the given data, limited resources, and performance.\n",
    "\n",
    "> In order to choose the model that best applied to the data, first we must note key properties of the data.  Because we are working with high-dimensional space with relatively few data points to train on, we want to avoid models that will suffer from the curse of dimensionality.  Models such as K-NN would have difficulty finding similarity a high-dimensional space such as this and so were not considered for this problem.  Each of the models considered perform well in high-dimensional spaces.  Another consideration is the skewed nature of the data, with 67.09% of the data set passing.  We might want a model that allows for adjusting the weight of each class.  SVM provides a method for this within the models parameters.\n",
    "\n",
    "> Next, we will look at resource consumption in terms of training time, testing time, and computer memory allocation.  Each contribute to cost, however some may contribute more significantly.  For example it is feasible to believe that we will be training once or infrequently compared to testing.  Because of this more importance is placed on a small testing time.\n",
    "\n",
    "> Of the considered models, SVM does have a disadvantage in terms of training time given a Big-O that is exponential in terms of the number of students we train the model on.  However, given we are training on a small data set, the cost due to training is not largely impacted.  For testing time, SVM is constant with respect to the number of students we train the model on.  This is true for all models chosen for consideration.  In contrast to lazy learners which have to consider the entire data set when testing.  With a small data set, this might not be an issue, but as time goes on the data set will get larger and larger increasing testing time.  For this scenario, the constant testing time given by SVM is favorable.  For memory, each model considered does well here.  In contrast to lazy learners, we only need to store the learned parameters of the model instead of keeping around the entire data set.\n",
    "\n",
    "> Finally we will look at performance in terms of F<sub>1</sub> Score which encompasses accuracy, recall, and precision.  With untrained models Naive Bayes performs similarly to SVM, however we are unable to adjust the parameters of the Naive Bayes model.  With tuning the SVM is able to get better permanence.\n",
    "\n",
    "- In 1-2 paragraphs explain to the board of supervisors in layman's terms how the final model chosen is supposed to work (for example if you chose a Decision Tree or Support Vector Machine, how does it make a prediction).\n",
    "\n",
    "> To understand what SVMs do, first consider a simplified version.  Picture an graph with x, y coordinates.  Within the graph we have some data points of two difference classes.  The job of the SVM is to draw a line separating those two classes so that on one side of the line we have one class and on the other side we have the other.\n",
    "\n",
    "> The line that SVM chooses to separate the two classes will be the line that creates the most margin between the line and each class subject to constraints.  For example the data may be messy in that some data points from one class might end up on the wrong side of the line, but it is still the line that minimizes how much we get wrong.\n",
    "\n",
    "> Now instead of x, y coordinates, which is a 2-dimensional space, consider that each feature of the student (Internet Access, Free Time, etc) is a dimension.  In a more generalized version SVM is able to create a separating “line” in this higher dimensional space that separates the passing students from the failing students.\n",
    "\n",
    "- Fine-tune the model. Use Gridsearch with at least one important parameter tuned and with at least 3 settings. Use the entire training set for this.\n",
    "\n",
    "> Tuned parameters (see below for grid search):\n",
    "\n",
    "> C=1\n",
    "\n",
    "> class_weight={'yes': 1, 'no': 1}\n",
    "\n",
    "> gamma=0.1\n",
    "\n",
    "- What is the model's final F<sub>1</sub> score?\n",
    "\n",
    "> 0.789473684211"
   ]
  },
  {
   "cell_type": "code",
   "execution_count": 72,
   "metadata": {
    "collapsed": false
   },
   "outputs": [
    {
     "name": "stdout",
     "output_type": "stream",
     "text": [
      "SVC(C=1, cache_size=4096, class_weight={'yes': 1, 'no': 1}, coef0=0.0,\n",
      "  decision_function_shape=None, degree=3, gamma=0.1, kernel='rbf',\n",
      "  max_iter=-1, probability=False, random_state=None, shrinking=True,\n",
      "  tol=0.001, verbose=False)\n",
      "\n",
      "Final F1 Score: 0.789473684211\n"
     ]
    }
   ],
   "source": [
    "# TODO: Fine-tune your model and report the best F1 score\n",
    "from sklearn import svm\n",
    "from sklearn.grid_search import GridSearchCV\n",
    "from sklearn.metrics import f1_score, make_scorer\n",
    "\n",
    "f1_scorer = make_scorer(f1_score, pos_label='yes')\n",
    "svr = svm.SVC(cache_size=4096)\n",
    "\n",
    "clf = GridSearchCV(svr, scoring=f1_scorer, cv=10, param_grid={\n",
    "    'C': [1, 10, 100, 1000],\n",
    "    'gamma': ['auto', 0.1, 0.001, 0.0001],\n",
    "    'class_weight': ['balanced', {'yes': 1, 'no': 1}]\n",
    "})\n",
    "clf.fit(X_train, y_train)\n",
    "\n",
    "print clf.best_estimator_\n",
    "print\n",
    "print \"Final F1 Score:\", clf.score(X_test, y_test)"
   ]
  }
 ],
 "metadata": {
  "kernelspec": {
   "display_name": "Python 2",
   "language": "python",
   "name": "python2"
  },
  "language_info": {
   "codemirror_mode": {
    "name": "ipython",
    "version": 2
   },
   "file_extension": ".py",
   "mimetype": "text/x-python",
   "name": "python",
   "nbconvert_exporter": "python",
   "pygments_lexer": "ipython2",
   "version": "2.7.12"
  }
 },
 "nbformat": 4,
 "nbformat_minor": 0
}
